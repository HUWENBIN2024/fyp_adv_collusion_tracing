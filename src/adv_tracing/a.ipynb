{
 "cells": [
  {
   "cell_type": "code",
   "execution_count": 1,
   "metadata": {},
   "outputs": [
    {
     "name": "stderr",
     "output_type": "stream",
     "text": [
      "/ssddata/whuak/anaconda3/envs/fyp/lib/python3.9/site-packages/tqdm/auto.py:21: TqdmWarning: IProgress not found. Please update jupyter and ipywidgets. See https://ipywidgets.readthedocs.io/en/stable/user_install.html\n",
      "  from .autonotebook import tqdm as notebook_tqdm\n"
     ]
    }
   ],
   "source": [
    "import torch\n",
    "import torch.nn as nn\n",
    "import torch.nn.functional as F\n",
    "from torchvision import transforms\n",
    "import os\n",
    "import argparse\n",
    "\n",
    "from models import VGG16Head, VGG16Tail, ResNet18Head, ResNet18Tail\n",
    "import config\n",
    "from watermark import Watermark"
   ]
  },
  {
   "cell_type": "code",
   "execution_count": 2,
   "metadata": {},
   "outputs": [],
   "source": [
    "model_dir = '/ssddata/whuak/fyp_adv_collusion_tracing/adv_tracing/saved_models/ResNet18-CIFAR10'"
   ]
  },
  {
   "cell_type": "code",
   "execution_count": 3,
   "metadata": {},
   "outputs": [],
   "source": [
    "head_ind = 0"
   ]
  },
  {
   "cell_type": "code",
   "execution_count": 4,
   "metadata": {},
   "outputs": [],
   "source": [
    "head_dir = model_dir + f\"/head_{head_ind}/state_dict\"\n",
    "tail_dir = model_dir + \"/base_tail_state_dict\"\n",
    "wm_dir = model_dir + f'/head_{head_ind}/watermark.npy'"
   ]
  },
  {
   "cell_type": "code",
   "execution_count": 5,
   "metadata": {},
   "outputs": [
    {
     "data": {
      "text/plain": [
       "'/ssddata/whuak/fyp_adv_collusion_tracing/adv_tracing/saved_models/ResNet18-CIFAR10/head_0/state_dict'"
      ]
     },
     "execution_count": 5,
     "metadata": {},
     "output_type": "execute_result"
    }
   ],
   "source": [
    "head_dir"
   ]
  },
  {
   "cell_type": "code",
   "execution_count": 78,
   "metadata": {},
   "outputs": [
    {
     "name": "stdout",
     "output_type": "stream",
     "text": [
      "Files already downloaded and verified\n",
      "Files already downloaded and verified\n",
      "Files already downloaded and verified\n"
     ]
    }
   ],
   "source": [
    "\n",
    "C, H, W = 3, 32, 32\n",
    "\n",
    "# Create the model and the dataset\n",
    "dataset = eval(f'config.CIFAR10()')\n",
    "training_set, testing_set = dataset.training_set, dataset.testing_set\n",
    "num_classes = dataset.num_classes\n",
    "means, stds = dataset.means, dataset.stds\n",
    "Head, Tail = eval(f'ResNet18Head'), eval(f'ResNet18Tail')\n",
    "normalizer = transforms.Normalize(means, stds)\n",
    "# training_loader = torch.utils.data.DataLoader(training_set, batch_size = args.batch_size, shuffle = True, num_workers = args.num_workers)\n",
    "# testing_loader = torch.utils.data.DataLoader(testing_set, batch_size = args.batch_size, shuffle = True, num_workers = args.num_workers)\n",
    "device = 'cuda' if torch.cuda.is_available() else 'cpu'\n",
    "\n",
    "# Place to save the trained model\n",
    "# save_dir = f'saved_models/{args.model_name}-{args.dataset_name}'\n",
    "# os.makedirs(save_dir, exist_ok = True)\n",
    "\n",
    "# Load the tail of the model\n",
    "tail = Tail(num_classes)\n",
    "tail.load_state_dict(torch.load(tail_dir))\n",
    "\n",
    "head = Head()\n",
    "head.load_state_dict(torch.load(head_dir))\n",
    "\n",
    "wm = Watermark.load(wm_dir)\n",
    "\n",
    "model = nn.Sequential(normalizer, wm, head, tail).eval()"
   ]
  },
  {
   "cell_type": "code",
   "execution_count": 8,
   "metadata": {},
   "outputs": [
    {
     "data": {
      "text/plain": [
       "NpzFile '/ssddata/whuak/fyp_adv_collusion_tracing/adv_tracing/saved_adv_examples/ResNet18-CIFAR10/head_0/NES.npz' with keys: X, X_attacked, y"
      ]
     },
     "execution_count": 8,
     "metadata": {},
     "output_type": "execute_result"
    }
   ],
   "source": [
    "# Bandit, NES, HopSkipJump, SignOPT, SimBA-px\n",
    "import numpy as np\n",
    "a = np.load(f\"/ssddata/whuak/fyp_adv_collusion_tracing/adv_tracing/saved_adv_examples/ResNet18-CIFAR10/head_{head_ind}/NES.npz\", allow_pickle=True)\n",
    "a"
   ]
  },
  {
   "cell_type": "code",
   "execution_count": 9,
   "metadata": {},
   "outputs": [],
   "source": [
    "img = torch.from_numpy(a['X'])\n",
    "img_adv = torch.from_numpy(a['X_attacked'])\n",
    "label = torch.from_numpy(a['y'])"
   ]
  },
  {
   "cell_type": "code",
   "execution_count": 10,
   "metadata": {},
   "outputs": [
    {
     "data": {
      "text/plain": [
       "torch.Size([14, 3, 32, 32])"
      ]
     },
     "execution_count": 10,
     "metadata": {},
     "output_type": "execute_result"
    }
   ],
   "source": [
    "img.shape"
   ]
  },
  {
   "cell_type": "code",
   "execution_count": 58,
   "metadata": {},
   "outputs": [
    {
     "data": {
      "text/plain": [
       "(tensor([4, 0, 7, 9, 3, 6, 3, 6, 4, 3, 7, 0, 3, 8]),\n",
       " tensor([4, 0, 7, 9, 3, 6, 3, 6, 4, 3, 7, 0, 3, 8]),\n",
       " tensor([3, 8, 2, 8, 6, 5, 5, 2, 2, 4, 5, 4, 5, 9]))"
      ]
     },
     "execution_count": 58,
     "metadata": {},
     "output_type": "execute_result"
    }
   ],
   "source": [
    "y_pred = model(img).argmax(dim=1)\n",
    "y_pred_adv = model(img_adv).argmax(dim=1)\n",
    "y_pred, label, y_pred_adv"
   ]
  },
  {
   "cell_type": "code",
   "execution_count": 59,
   "metadata": {},
   "outputs": [
    {
     "data": {
      "text/plain": [
       "(tensor([True, True, True, True, True, True, True, True, True, True, True, True,\n",
       "         True, True]),\n",
       " tensor([False, False, False, False, False, False, False, False, False, False,\n",
       "         False, False, False, False]))"
      ]
     },
     "execution_count": 59,
     "metadata": {},
     "output_type": "execute_result"
    }
   ],
   "source": [
    "label == y_pred, label == y_pred_adv"
   ]
  },
  {
   "cell_type": "code",
   "execution_count": 60,
   "metadata": {},
   "outputs": [
    {
     "data": {
      "text/plain": [
       "(tensor([4, 0, 7, 9, 3, 6, 3, 6, 4, 3, 7, 0, 3, 8]),\n",
       " tensor([True, True, True, True, True, True, True, True, True, True, True, True,\n",
       "         True, True]))"
      ]
     },
     "execution_count": 60,
     "metadata": {},
     "output_type": "execute_result"
    }
   ],
   "source": [
    "adv_perturb = img_adv - img\n",
    "adv_collusion = adv_perturb[4] + adv_perturb[5]\n",
    "img_adv_collusion = img + adv_collusion \n",
    "img_adv_collusion = img_adv_collusion.view(-1, 3, 32, 32)\n",
    "\n",
    "y_pred_collusion = model(img_adv_collusion).argmax(dim=1)\n",
    "y_pred_collusion, y_pred_collusion == label"
   ]
  },
  {
   "cell_type": "code",
   "execution_count": 17,
   "metadata": {},
   "outputs": [
    {
     "data": {
      "text/plain": [
       "0.6020408163265306"
      ]
     },
     "execution_count": 17,
     "metadata": {},
     "output_type": "execute_result"
    }
   ],
   "source": [
    "size = len(label)\n",
    "torch.zeros(size, size)\n",
    "success_sample_2 = 0\n",
    "success_sample_list_2 = []\n",
    "for i in range(len(label)):\n",
    "    for j in range(len(label)):\n",
    "        adv_perturb = img_adv - img\n",
    "        adv_collusion = adv_perturb[i] + adv_perturb[j]\n",
    "        img_adv_collusion = img + adv_collusion \n",
    "        img_adv_collusion = img_adv_collusion.view(-1, 3, 32, 32)\n",
    "\n",
    "        y_pred_collusion = model(img_adv_collusion).argmax(dim=1)\n",
    "\n",
    "        # if y_pred_collusion[i] == y_pred_collusion[j] and y_pred_collusion[i]  != label[i] and  y_pred_collusion[j]  != label[j]:\n",
    "        if y_pred_collusion[i]  != label[i] or y_pred_collusion[j]  != label[j]:\n",
    "            success_sample_2 += 1\n",
    "            success_sample_list_2.append((i,j))\n",
    "\n",
    "       \n",
    "\n",
    "success_sample_2 / size**2"
   ]
  },
  {
   "cell_type": "code",
   "execution_count": null,
   "metadata": {},
   "outputs": [],
   "source": [
    "success_transfer = 0\n",
    "adv_perturb = img_adv - img\n",
    "for i in range(len(label)):\n",
    "    print(i)\n",
    "    transfer_attack = img + adv_perturb[i:i+1]\n",
    "    y_pred_transfer = model(transfer_attack).argmax(dim=1)\n",
    "    success_transfer += ((y_pred_transfer != label).sum() - 1)\n",
    "    print(y_pred_transfer != label)\n",
    "success_transfer / (size*(size - 1))"
   ]
  },
  {
   "cell_type": "code",
   "execution_count": 24,
   "metadata": {},
   "outputs": [
    {
     "data": {
      "text/plain": [
       "1.0"
      ]
     },
     "execution_count": 24,
     "metadata": {},
     "output_type": "execute_result"
    }
   ],
   "source": [
    "success_sample_3 = 0\n",
    "success_sample_list_3 = []\n",
    "for i in range(len(label)):\n",
    "    for j in range(len(label)):\n",
    "        for k in range(len(label)):\n",
    "\n",
    "            adv_perturb = img_adv - img\n",
    "            adv_collusion = adv_perturb[i] + adv_perturb[j] + adv_perturb[j]\n",
    "            img_adv_collusion = img + adv_collusion \n",
    "            img_adv_collusion = img_adv_collusion.view(-1, 3, 32, 32)\n",
    "\n",
    "            y_pred_collusion = model(img_adv_collusion).argmax(dim=1)\n",
    "\n",
    "            # if y_pred_collusion[i] == y_pred_collusion[j]==y_pred_collusion[k] \\\n",
    "            #     and y_pred_collusion[i]  != label[i] and  y_pred_collusion[j]  != label[j] \\\n",
    "            #     and y_pred_collusion[k]  != label[k]: # attack success rate = 0.01\n",
    "            if  y_pred_collusion[i]  != label[i] or  y_pred_collusion[j]  != label[j] \\\n",
    "                or y_pred_collusion[k]  != label[k]:\n",
    "\n",
    "                success_sample_3 += 1\n",
    "                success_sample_list_3.append((i,j,k))\n",
    "\n",
    "success_sample_3 / size**3"
   ]
  },
  {
   "cell_type": "code",
   "execution_count": 20,
   "metadata": {},
   "outputs": [
    {
     "data": {
      "image/png": "[encoded data removed]",
      "text/plain": [
       "<Figure size 640x480 with 1 Axes>"
      ]
     },
     "metadata": {},
     "output_type": "display_data"
    }
   ],
   "source": [
    "from matplotlib import pyplot as plt\n",
    "plt.imshow(img[0].permute((1, 2, 0)))\n",
    "plt.show()"
   ]
  },
  {
   "cell_type": "code",
   "execution_count": 21,
   "metadata": {},
   "outputs": [
    {
     "data": {
      "image/png": "[encoded data removed]",
      "text/plain": [
       "<Figure size 640x480 with 1 Axes>"
      ]
     },
     "metadata": {},
     "output_type": "display_data"
    }
   ],
   "source": [
    "from matplotlib import pyplot as plt\n",
    "plt.imshow(img_adv[0].permute((1, 2, 0)))\n",
    "plt.show()"
   ]
  },
  {
   "cell_type": "code",
   "execution_count": 71,
   "metadata": {},
   "outputs": [],
   "source": [
    "a = np.load(f\"/ssddata/whuak/fyp_adv_collusion_tracing/adv_tracing/saved_adv_examples/ResNet18-CIFAR10/head_1/NES.npz\", allow_pickle=True)\n",
    "\n",
    "img = torch.from_numpy(a['X'])\n",
    "img_adv = torch.from_numpy(a['X_attacked'])\n",
    "label = torch.from_numpy(a['y'])\n",
    "\n"
   ]
  },
  {
   "cell_type": "code",
   "execution_count": 72,
   "metadata": {},
   "outputs": [
    {
     "data": {
      "text/plain": [
       "tensor([4, 1, 0, 8, 0, 3, 7, 6, 3, 6])"
      ]
     },
     "execution_count": 72,
     "metadata": {},
     "output_type": "execute_result"
    }
   ],
   "source": [
    "label"
   ]
  },
  {
   "cell_type": "code",
   "execution_count": 73,
   "metadata": {},
   "outputs": [],
   "source": [
    "from tqdm import tqdm"
   ]
  },
  {
   "cell_type": "code",
   "execution_count": null,
   "metadata": {},
   "outputs": [],
   "source": [
    "def load_model(model_dir, head_index):\n",
    "    head_dir = model_dir + f\"/head_{head_index}/state_dict\"\n",
    "    tail_dir = model_dir + \"/base_tail_state_dict\"\n",
    "    wm_dir = model_dir + f'/head_{head_index}/watermark.npy'\n",
    "    C, H, W = 3, 32, 32\n",
    "\n",
    "    # Create the model and the dataset\n",
    "    dataset = eval(f'config.CIFAR10()')\n",
    "    training_set, testing_set = dataset.training_set, dataset.testing_set\n",
    "    num_classes = dataset.num_classes\n",
    "    means, stds = dataset.means, dataset.stds\n",
    "    Head, Tail = eval(f'ResNet18Head'), eval(f'ResNet18Tail')\n",
    "    normalizer = transforms.Normalize(means, stds)\n",
    "    # training_loader = torch.utils.data.DataLoader(training_set, batch_size = args.batch_size, shuffle = True, num_workers = args.num_workers)\n",
    "    # testing_loader = torch.utils.data.DataLoader(testing_set, batch_size = args.batch_size, shuffle = True, num_workers = args.num_workers)\n",
    "    device = 'cuda' if torch.cuda.is_available() else 'cpu'\n",
    "\n",
    "    # Place to save the trained model\n",
    "    # save_dir = f'saved_models/{args.model_name}-{args.dataset_name}'\n",
    "    # os.makedirs(save_dir, exist_ok = True)\n",
    "\n",
    "    # Load the tail of the model\n",
    "    tail = Tail(num_classes)\n",
    "    tail.load_state_dict(torch.load(tail_dir))\n",
    "\n",
    "    head = Head()\n",
    "    head.load_state_dict(torch.load(head_dir))\n",
    "\n",
    "    wm = Watermark.load(wm_dir)\n",
    "\n",
    "    model = nn.Sequential(normalizer, wm, head, tail).eval()\n",
    "\n",
    "    return model"
   ]
  },
  {
   "cell_type": "code",
   "execution_count": null,
   "metadata": {},
   "outputs": [],
   "source": [
    "\n",
    "total = 0\n",
    "success_num = 0\n",
    "\n",
    "for i in tqdm(range(100)):\n",
    "    \n",
    "\n",
    "    \n",
    "\n",
    "    head_dir = model_dir + f\"/head_{i}/state_dict\"\n",
    "    tail_dir = model_dir + \"/base_tail_state_dict\"\n",
    "    wm_dir = model_dir + f'/head_{i}/watermark.npy'\n",
    "\n",
    "\n",
    "    \n",
    "    C, H, W = 3, 32, 32\n",
    "\n",
    "    # Create the model and the dataset\n",
    "    dataset = eval(f'config.CIFAR10()')\n",
    "    training_set, testing_set = dataset.training_set, dataset.testing_set\n",
    "    num_classes = dataset.num_classes\n",
    "    means, stds = dataset.means, dataset.stds\n",
    "    Head, Tail = eval(f'ResNet18Head'), eval(f'ResNet18Tail')\n",
    "    normalizer = transforms.Normalize(means, stds)\n",
    "    # training_loader = torch.utils.data.DataLoader(training_set, batch_size = args.batch_size, shuffle = True, num_workers = args.num_workers)\n",
    "    # testing_loader = torch.utils.data.DataLoader(testing_set, batch_size = args.batch_size, shuffle = True, num_workers = args.num_workers)\n",
    "    device = 'cuda' if torch.cuda.is_available() else 'cpu'\n",
    "\n",
    "    # Place to save the trained model\n",
    "    # save_dir = f'saved_models/{args.model_name}-{args.dataset_name}'\n",
    "    # os.makedirs(save_dir, exist_ok = True)\n",
    "\n",
    "    # Load the tail of the model\n",
    "    tail = Tail(num_classes)\n",
    "    tail.load_state_dict(torch.load(tail_dir))\n",
    "\n",
    "    head = Head()\n",
    "    head.load_state_dict(torch.load(head_dir))\n",
    "\n",
    "    wm = Watermark.load(wm_dir)\n",
    "\n",
    "    model = nn.Sequential(normalizer, wm, head, tail).eval()\n",
    "\n",
    "    for j in range(100):\n",
    "        if i == j:\n",
    "            continue\n",
    "\n",
    "        a = np.load(f\"/ssddata/whuak/fyp_adv_collusion_tracing/adv_tracing/saved_adv_examples/ResNet18-CIFAR10/head_{j}/NES.npz\", allow_pickle=True)\n",
    "\n",
    "        img = torch.from_numpy(a['X'])\n",
    "        img_adv = torch.from_numpy(a['X_attacked'])\n",
    "        label = torch.from_numpy(a['y'])\n",
    "        \n",
    "    \n",
    "        # y_pred = model(img).argmax(dim=1)\n",
    "        y_pred_adv = model(img_adv).argmax(dim=1)\n",
    "\n",
    "        success_num += (y_pred_adv != label).sum().item()\n",
    "        total += len(label)\n",
    "\n",
    "    \n",
    "\n",
    "success_num / total\n",
    "\n",
    "    "
   ]
  },
  {
   "cell_type": "code",
   "execution_count": 70,
   "metadata": {},
   "outputs": [
    {
     "data": {
      "text/plain": [
       "0.19696969696969696"
      ]
     },
     "execution_count": 70,
     "metadata": {},
     "output_type": "execute_result"
    }
   ],
   "source": [
    "0.19696969696969696"
   ]
  },
  {
   "cell_type": "code",
   "execution_count": null,
   "metadata": {},
   "outputs": [],
   "source": [
    "# k = 2\n",
    "# for i in range(100):\n",
    "#     np.random.choice(range(100), k)\n",
    "#     for k_ind in range(k):\n",
    "#         model = load_model(model_dir, k_ind)\n",
    "#         model\n"
   ]
  },
  {
   "cell_type": "code",
   "execution_count": 1,
   "metadata": {},
   "outputs": [
    {
     "data": {
      "text/plain": [
       "array([21, 89])"
      ]
     },
     "execution_count": 1,
     "metadata": {},
     "output_type": "execute_result"
    }
   ],
   "source": [
    "import numpy as np\n",
    "np.random.choice(np.arange(100), 2)"
   ]
  },
  {
   "cell_type": "code",
   "execution_count": 7,
   "metadata": {},
   "outputs": [
    {
     "data": {
      "text/plain": [
       "NpzFile 'saved_collusion_adv_examples/ResNet18-CIFAR10/NES.npz' with keys: X, X_attacked, y, head"
      ]
     },
     "execution_count": 7,
     "metadata": {},
     "output_type": "execute_result"
    }
   ],
   "source": [
    "np.load('saved_collusion_adv_examples/ResNet18-CIFAR10/NES.npz', allow_pickle=True)"
   ]
  },
  {
   "cell_type": "code",
   "execution_count": 22,
   "metadata": {},
   "outputs": [],
   "source": [
    "x = np.zeros((10,3,32,32))"
   ]
  },
  {
   "cell_type": "code",
   "execution_count": 23,
   "metadata": {},
   "outputs": [
    {
     "data": {
      "text/plain": [
       "(2, 10, 3, 32, 32)"
      ]
     },
     "execution_count": 23,
     "metadata": {},
     "output_type": "execute_result"
    }
   ],
   "source": [
    "np.stack([x,x]).shape"
   ]
  },
  {
   "cell_type": "code",
   "execution_count": 30,
   "metadata": {},
   "outputs": [
    {
     "data": {
      "text/plain": [
       "(2, 3, 3)"
      ]
     },
     "execution_count": 30,
     "metadata": {},
     "output_type": "execute_result"
    }
   ],
   "source": [
    "np.random.choice([True, False], size=(2,3,3), p=[0.1, 0.9]).shape"
   ]
  },
  {
   "cell_type": "code",
   "execution_count": 1,
   "metadata": {},
   "outputs": [],
   "source": [
    "import numpy as np"
   ]
  },
  {
   "cell_type": "code",
   "execution_count": 3,
   "metadata": {},
   "outputs": [
    {
     "data": {
      "text/plain": [
       "(2, 6, 3, 32, 32)"
      ]
     },
     "execution_count": 3,
     "metadata": {},
     "output_type": "execute_result"
    }
   ],
   "source": [
    "a = np.zeros((2, 1, 3, 32, 32))\n",
    "b = np.zeros((2, 5, 3, 32, 32))\n",
    "np.concatenate([a,b], axis=1).shape"
   ]
  },
  {
   "cell_type": "code",
   "execution_count": 5,
   "metadata": {},
   "outputs": [],
   "source": [
    "a = np.load('/ssddata/whuak/fyp_adv_collusion_tracing/adv_tracing/saved_collusion_adv_examples/ResNet18-CIFAR10/2_attackers/HopSkipJump_100_num_of_samples.npz', allow_pickle=True)\n"
   ]
  },
  {
   "cell_type": "code",
   "execution_count": 8,
   "metadata": {},
   "outputs": [
    {
     "data": {
      "text/plain": [
       "(2, 102, 3, 32, 32)"
      ]
     },
     "execution_count": 8,
     "metadata": {},
     "output_type": "execute_result"
    }
   ],
   "source": [
    "a['X_attacked_k'].shape"
   ]
  },
  {
   "cell_type": "code",
   "execution_count": 9,
   "metadata": {},
   "outputs": [
    {
     "data": {
      "text/plain": [
       "array([0, 1])"
      ]
     },
     "execution_count": 9,
     "metadata": {},
     "output_type": "execute_result"
    }
   ],
   "source": [
    "np.array([0,1])"
   ]
  },
  {
   "cell_type": "code",
   "execution_count": 10,
   "metadata": {},
   "outputs": [],
   "source": [
    "b = 2"
   ]
  },
  {
   "cell_type": "code",
   "execution_count": 34,
   "metadata": {},
   "outputs": [
    {
     "data": {
      "text/plain": [
       "False"
      ]
     },
     "execution_count": 34,
     "metadata": {},
     "output_type": "execute_result"
    }
   ],
   "source": [
    "b in np.array([0,1])"
   ]
  },
  {
   "cell_type": "code",
   "execution_count": 2,
   "metadata": {},
   "outputs": [
    {
     "name": "stderr",
     "output_type": "stream",
     "text": [
      "/ssddata/whuak/anaconda3/envs/fyp/lib/python3.9/site-packages/tqdm/auto.py:21: TqdmWarning: IProgress not found. Please update jupyter and ipywidgets. See https://ipywidgets.readthedocs.io/en/stable/user_install.html\n",
      "  from .autonotebook import tqdm as notebook_tqdm\n"
     ]
    }
   ],
   "source": [
    "import torch\n",
    "import torch.nn as nn\n",
    "import os\n",
    "import argparse\n",
    "\n",
    "from torchvision import transforms\n",
    "from models import VGG16Head, VGG16Tail, ResNet18Head, ResNet18Tail\n",
    "import config\n"
   ]
  },
  {
   "cell_type": "code",
   "execution_count": 16,
   "metadata": {},
   "outputs": [
    {
     "name": "stdout",
     "output_type": "stream",
     "text": [
      "Downloading https://sid.erda.dk/public/archives/daaeac0d7ce1152aea9b61d9f1e19370/GTSRB-Training_fixed.zip to data/gtsrb/GTSRB-Training_fixed.zip\n"
     ]
    },
    {
     "name": "stderr",
     "output_type": "stream",
     "text": [
      "100%|██████████| 187490228/187490228 [01:40<00:00, 1856949.41it/s]\n"
     ]
    },
    {
     "name": "stdout",
     "output_type": "stream",
     "text": [
      "Extracting data/gtsrb/GTSRB-Training_fixed.zip to data/gtsrb\n",
      "Downloading https://sid.erda.dk/public/archives/daaeac0d7ce1152aea9b61d9f1e19370/GTSRB_Final_Test_Images.zip to data/gtsrb/GTSRB_Final_Test_Images.zip\n"
     ]
    },
    {
     "name": "stderr",
     "output_type": "stream",
     "text": [
      "100%|██████████| 88978620/88978620 [00:54<00:00, 1621870.13it/s]\n"
     ]
    },
    {
     "name": "stdout",
     "output_type": "stream",
     "text": [
      "Extracting data/gtsrb/GTSRB_Final_Test_Images.zip to data/gtsrb\n",
      "Downloading https://sid.erda.dk/public/archives/daaeac0d7ce1152aea9b61d9f1e19370/GTSRB_Final_Test_GT.zip to data/gtsrb/GTSRB_Final_Test_GT.zip\n"
     ]
    },
    {
     "name": "stderr",
     "output_type": "stream",
     "text": [
      "100%|██████████| 99620/99620 [00:00<00:00, 209694.57it/s]\n"
     ]
    },
    {
     "name": "stdout",
     "output_type": "stream",
     "text": [
      "Extracting data/gtsrb/GTSRB_Final_Test_GT.zip to data/gtsrb\n"
     ]
    }
   ],
   "source": [
    "dataset = config.GTSRB()\n",
    "training_set, testing_set = dataset.training_set, dataset.testing_set\n",
    "num_classes = dataset.num_classes"
   ]
  },
  {
   "cell_type": "code",
   "execution_count": 17,
   "metadata": {},
   "outputs": [],
   "source": [
    "training_loader = torch.utils.data.DataLoader(training_set, batch_size=8, shuffle = True, num_workers =2)\n"
   ]
  },
  {
   "cell_type": "code",
   "execution_count": 18,
   "metadata": {},
   "outputs": [
    {
     "name": "stdout",
     "output_type": "stream",
     "text": [
      "torch.Size([8, 3, 32, 32]) torch.Size([8])\n"
     ]
    }
   ],
   "source": [
    "for x,y in training_loader:\n",
    "    print(x.shape, y.shape)\n",
    "    break"
   ]
  },
  {
   "cell_type": "code",
   "execution_count": 20,
   "metadata": {},
   "outputs": [
    {
     "data": {
      "text/plain": [
       "(26640, 12630)"
      ]
     },
     "execution_count": 20,
     "metadata": {},
     "output_type": "execute_result"
    }
   ],
   "source": [
    "len(training_set) ,len(testing_set)\n"
   ]
  },
  {
   "cell_type": "code",
   "execution_count": 36,
   "metadata": {},
   "outputs": [
    {
     "name": "stderr",
     "output_type": "stream",
     "text": [
      "/ssddata/whuak/anaconda3/envs/fyp/lib/python3.9/site-packages/tqdm/auto.py:21: TqdmWarning: IProgress not found. Please update jupyter and ipywidgets. See https://ipywidgets.readthedocs.io/en/stable/user_install.html\n",
      "  from .autonotebook import tqdm as notebook_tqdm\n"
     ]
    }
   ],
   "source": [
    "import torch"
   ]
  },
  {
   "cell_type": "code",
   "execution_count": 43,
   "metadata": {},
   "outputs": [
    {
     "data": {
      "text/plain": [
       "tensor([True, True])"
      ]
     },
     "execution_count": 43,
     "metadata": {},
     "output_type": "execute_result"
    }
   ],
   "source": [
    "c = torch.tensor([[2,3],[4,5]])\n",
    "mask = torch.tensor([1, 1])\n",
    "mask = mask.to(torch.bool)\n",
    "mask"
   ]
  },
  {
   "cell_type": "code",
   "execution_count": 44,
   "metadata": {},
   "outputs": [
    {
     "data": {
      "text/plain": [
       "tensor([[2, 3],\n",
       "        [4, 5]])"
      ]
     },
     "execution_count": 44,
     "metadata": {},
     "output_type": "execute_result"
    }
   ],
   "source": [
    "c[mask]"
   ]
  },
  {
   "cell_type": "code",
   "execution_count": 18,
   "metadata": {},
   "outputs": [],
   "source": [
    "d = np.array([1,1])\n",
    "x = [d,d,d]\n",
    "np.savez(f'test.npz', x=x)\n"
   ]
  },
  {
   "cell_type": "code",
   "execution_count": 20,
   "metadata": {},
   "outputs": [
    {
     "data": {
      "text/plain": [
       "array([[1, 1],\n",
       "       [1, 1],\n",
       "       [1, 1]])"
      ]
     },
     "execution_count": 20,
     "metadata": {},
     "output_type": "execute_result"
    }
   ],
   "source": [
    "a = np.load('test.npz', allow_pickle=True)\n",
    "a['x']"
   ]
  },
  {
   "cell_type": "code",
   "execution_count": 2,
   "metadata": {},
   "outputs": [
    {
     "data": {
      "text/plain": [
       "array([False, False])"
      ]
     },
     "execution_count": 2,
     "metadata": {},
     "output_type": "execute_result"
    }
   ],
   "source": [
    "import numpy as np\n",
    "np.array([0,1]) == 3"
   ]
  },
  {
   "cell_type": "code",
   "execution_count": 3,
   "metadata": {},
   "outputs": [
    {
     "name": "stdout",
     "output_type": "stream",
     "text": [
      "1\n",
      "1\n",
      "1\n",
      "1\n"
     ]
    }
   ],
   "source": [
    "import numpy as np\n",
    "for i in np.ones(4).astype(int):\n",
    "    print(i)\n"
   ]
  },
  {
   "cell_type": "code",
   "execution_count": 1,
   "metadata": {},
   "outputs": [
    {
     "data": {
      "text/plain": [
       "3072"
      ]
     },
     "execution_count": 1,
     "metadata": {},
     "output_type": "execute_result"
    }
   ],
   "source": [
    "32 * 32* 3"
   ]
  },
  {
   "cell_type": "code",
   "execution_count": 1,
   "metadata": {},
   "outputs": [
    {
     "data": {
      "text/plain": [
       "array([0, 2, 0, 2, 0, 2, 0, 2, 0, 2, 1, 1, 0, 2, 1, 0, 0, 1, 2, 0, 2, 2,\n",
       "       0, 1, 2, 2, 1, 0, 1, 2, 0, 1, 2, 0, 0, 1, 0, 2, 0, 1, 2, 1, 0, 2,\n",
       "       0, 1, 1, 0, 0, 0, 0, 2, 2, 2, 2, 1, 2, 1, 0, 0, 1, 0, 1, 0, 1, 2,\n",
       "       2, 1, 1, 0, 0, 1, 1, 1, 1, 0, 0, 2, 1, 1, 2, 1, 2, 0, 2, 0, 0, 1,\n",
       "       1, 1, 0, 0, 0, 1, 1, 0, 0, 2, 1, 2])"
      ]
     },
     "execution_count": 1,
     "metadata": {},
     "output_type": "execute_result"
    }
   ],
   "source": [
    "import numpy as np\n",
    "\n",
    "np.random.choice(3, size = 100)"
   ]
  },
  {
   "cell_type": "code",
   "execution_count": 5,
   "metadata": {},
   "outputs": [
    {
     "data": {
      "text/plain": [
       "array([[ 0,  7, 11],\n",
       "       [ 0, 30, 26],\n",
       "       [ 1,  5,  1],\n",
       "       [ 0, 29,  8],\n",
       "       [ 0, 13, 11],\n",
       "       [ 2,  6, 31],\n",
       "       [ 2, 29, 30],\n",
       "       [ 0, 17,  6],\n",
       "       [ 1, 27, 14],\n",
       "       [ 1,  3,  6],\n",
       "       [ 0,  7, 31],\n",
       "       [ 1,  6,  5],\n",
       "       [ 0, 13, 12],\n",
       "       [ 1, 24, 24],\n",
       "       [ 1, 30, 30],\n",
       "       [ 0, 11,  0],\n",
       "       [ 1,  0,  3],\n",
       "       [ 1, 17,  6],\n",
       "       [ 2, 23, 17],\n",
       "       [ 2,  8, 14],\n",
       "       [ 1,  4,  5],\n",
       "       [ 1, 18,  7],\n",
       "       [ 0, 14, 16],\n",
       "       [ 2, 27, 24],\n",
       "       [ 2, 12,  1],\n",
       "       [ 1, 14, 23],\n",
       "       [ 2,  9, 31],\n",
       "       [ 0,  4,  7],\n",
       "       [ 2,  2,  0],\n",
       "       [ 0,  8, 20],\n",
       "       [ 0, 23, 27],\n",
       "       [ 2, 29, 29],\n",
       "       [ 0, 15, 15],\n",
       "       [ 1, 18, 30],\n",
       "       [ 2, 13,  7],\n",
       "       [ 2, 16,  6],\n",
       "       [ 2, 18, 27],\n",
       "       [ 2, 31, 12],\n",
       "       [ 0, 12,  6],\n",
       "       [ 0, 25, 29],\n",
       "       [ 0,  3,  7],\n",
       "       [ 0, 29, 11],\n",
       "       [ 2, 14, 13],\n",
       "       [ 2, 21,  0],\n",
       "       [ 2,  3, 28],\n",
       "       [ 1, 18, 24],\n",
       "       [ 0, 20, 24],\n",
       "       [ 2, 14, 31],\n",
       "       [ 2,  3, 10],\n",
       "       [ 2, 26, 26],\n",
       "       [ 2, 29,  2],\n",
       "       [ 0, 20,  0],\n",
       "       [ 2,  4, 25],\n",
       "       [ 1, 26, 25],\n",
       "       [ 2,  1, 25],\n",
       "       [ 2, 29,  5],\n",
       "       [ 0, 23,  0],\n",
       "       [ 1, 15,  1],\n",
       "       [ 2, 18, 11],\n",
       "       [ 0, 24,  3],\n",
       "       [ 0, 10,  5],\n",
       "       [ 1,  8,  8],\n",
       "       [ 1, 26, 15],\n",
       "       [ 1, 21, 16],\n",
       "       [ 2, 18, 29],\n",
       "       [ 1, 19, 30],\n",
       "       [ 0, 27, 14],\n",
       "       [ 1,  5,  9],\n",
       "       [ 1, 12,  2],\n",
       "       [ 2, 16,  2],\n",
       "       [ 2, 10, 14],\n",
       "       [ 1, 19, 11],\n",
       "       [ 0, 10,  8],\n",
       "       [ 2,  9,  6],\n",
       "       [ 1,  0, 20],\n",
       "       [ 0, 31,  3],\n",
       "       [ 0, 24,  7],\n",
       "       [ 1,  7, 12],\n",
       "       [ 1, 31, 24],\n",
       "       [ 0, 27,  2],\n",
       "       [ 1, 30,  7],\n",
       "       [ 1, 12,  7],\n",
       "       [ 0, 17,  9],\n",
       "       [ 0, 24, 28],\n",
       "       [ 2,  9, 26],\n",
       "       [ 2,  8, 11],\n",
       "       [ 2, 21, 13],\n",
       "       [ 0, 25, 12],\n",
       "       [ 1,  4, 12],\n",
       "       [ 2,  7, 17],\n",
       "       [ 1, 16, 18],\n",
       "       [ 2, 12, 14],\n",
       "       [ 0, 11, 21],\n",
       "       [ 0, 29,  5],\n",
       "       [ 1,  3, 16],\n",
       "       [ 0, 19,  1],\n",
       "       [ 1,  9, 26],\n",
       "       [ 2,  1,  2],\n",
       "       [ 1,  6, 13],\n",
       "       [ 1, 18, 23]])"
      ]
     },
     "execution_count": 5,
     "metadata": {},
     "output_type": "execute_result"
    }
   ],
   "source": [
    "from watermark import Watermark\n",
    "a = Watermark.random(100, 3, 32, 32)\n",
    "a.locations"
   ]
  },
  {
   "cell_type": "code",
   "execution_count": 6,
   "metadata": {},
   "outputs": [
    {
     "data": {
      "text/plain": [
       "(100, 3)"
      ]
     },
     "execution_count": 6,
     "metadata": {},
     "output_type": "execute_result"
    }
   ],
   "source": [
    "a.locations.shape"
   ]
  },
  {
   "cell_type": "code",
   "execution_count": null,
   "metadata": {},
   "outputs": [],
   "source": []
  }
 ],
 "metadata": {
  "kernelspec": {
   "display_name": "fyp",
   "language": "python",
   "name": "python3"
  },
  "language_info": {
   "codemirror_mode": {
    "name": "ipython",
    "version": 3
   },
   "file_extension": ".py",
   "mimetype": "text/x-python",
   "name": "python",
   "nbconvert_exporter": "python",
   "pygments_lexer": "ipython3",
   "version": "3.8.5"
  }
 },
 "nbformat": 4,
 "nbformat_minor": 2
}
